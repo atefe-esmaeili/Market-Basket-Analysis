{
  "nbformat": 4,
  "nbformat_minor": 0,
  "metadata": {
    "colab": {
      "name": "marketbasket_2.ipynb",
      "provenance": [],
      "collapsed_sections": []
    },
    "kernelspec": {
      "name": "python3",
      "display_name": "Python 3"
    }
  },
  "cells": [
    {
      "cell_type": "markdown",
      "metadata": {
        "id": "fqHRu247A5K9"
      },
      "source": [
        "# Market Basket Analysis\n",
        "In this code I developed a market basket analysis to find relationship between items in customers' baskets. The result consists of rules showing association between some items. It means if a customer buys some certain items it is likely that he/she buys some other certains items too."
      ]
    },
    {
      "cell_type": "code",
      "metadata": {
        "id": "AFT3hV5SA0Ht"
      },
      "source": [
        "from google.colab import drive\n",
        "drive.mount('/content/drive/')"
      ],
      "execution_count": null,
      "outputs": []
    },
    {
      "cell_type": "code",
      "metadata": {
        "id": "s4VG6aacAnvT"
      },
      "source": [
        "import warnings\n",
        "warnings.filterwarnings (\"ignore\")\n",
        "import numpy as np\n",
        "import pandas as pd\n",
        "import matplotlib.pyplot as plt\n",
        "import seaborn as sns\n",
        "from itertools import permutations\n",
        "import itertools"
      ],
      "execution_count": 2,
      "outputs": []
    },
    {
      "cell_type": "code",
      "metadata": {
        "id": "cDPj6H7uB2GQ",
        "outputId": "8b88bbad-ebfb-42a8-81a2-ed53bcb47044",
        "colab": {
          "base_uri": "https://localhost:8080/",
          "height": 272
        }
      },
      "source": [
        "#Importing data\n",
        "data=pd.read_excel(r'/content/drive/My Drive/OnlineRetail.xlsx')\n",
        "data.info()"
      ],
      "execution_count": 3,
      "outputs": [
        {
          "output_type": "stream",
          "text": [
            "<class 'pandas.core.frame.DataFrame'>\n",
            "RangeIndex: 541909 entries, 0 to 541908\n",
            "Data columns (total 8 columns):\n",
            " #   Column       Non-Null Count   Dtype         \n",
            "---  ------       --------------   -----         \n",
            " 0   InvoiceNo    541909 non-null  object        \n",
            " 1   StockCode    541909 non-null  object        \n",
            " 2   Description  540455 non-null  object        \n",
            " 3   Quantity     541909 non-null  int64         \n",
            " 4   InvoiceDate  541909 non-null  datetime64[ns]\n",
            " 5   UnitPrice    541909 non-null  float64       \n",
            " 6   CustomerID   406829 non-null  float64       \n",
            " 7   Country      541909 non-null  object        \n",
            "dtypes: datetime64[ns](1), float64(2), int64(1), object(4)\n",
            "memory usage: 33.1+ MB\n"
          ],
          "name": "stdout"
        }
      ]
    },
    {
      "cell_type": "code",
      "metadata": {
        "id": "Nk08KYUqKbnH",
        "outputId": "60628f3c-4f81-4828-e74b-6a7f5033753d",
        "colab": {
          "base_uri": "https://localhost:8080/",
          "height": 816
        }
      },
      "source": [
        "#General Data Inspection\n",
        "print(\"The number of items= \",data.Description.unique().shape[0])\n",
        "print(\"The number of customers= \", data['InvoiceNo'].unique().shape[0])\n",
        "print(\"The number of purchases of all items:\", data['Description'].value_counts().sum())\n",
        "print(\"\")\n",
        "TGREEN =  '\\033[43m' \n",
        "print(TGREEN + \"The number of purchase for each item: \")\n",
        "r= '\\033[0m'   # reset\n",
        "print(r+\"\")\n",
        "print( data['Description'].value_counts())\n",
        "print(TGREEN + \"items with more than 1500 purchases:\")\n",
        "print(r+\"\")\n",
        "print(data['Description'].value_counts()>1500)\n",
        "red = '\\033[31m' # Red Text\n",
        "print(\"\")\n",
        "print(TGREEN + \"The proportional purchase for each item (%): \")\n",
        "print(r+\"\")\n",
        "print(data['Description'].value_counts()/data['Description'].value_counts().sum()*100)"
      ],
      "execution_count": 4,
      "outputs": [
        {
          "output_type": "stream",
          "text": [
            "The number of items=  4224\n",
            "The number of customers=  25900\n",
            "The number of purchases of all items: 540455\n",
            "\n",
            "\u001b[43mThe number of purchase for each item: \n",
            "\u001b[0m\n",
            "WHITE HANGING HEART T-LIGHT HOLDER     2369\n",
            "REGENCY CAKESTAND 3 TIER               2200\n",
            "JUMBO BAG RED RETROSPOT                2159\n",
            "PARTY BUNTING                          1727\n",
            "LUNCH BAG RED RETROSPOT                1638\n",
            "                                       ... \n",
            "BLUE GINGHAM ROSE CUSHION COVER           1\n",
            "Damages/samples                           1\n",
            "FLOWER SHOP DESIGN MUG                    1\n",
            "Dotcom set                                1\n",
            "allocate stock for dotcom orders ta       1\n",
            "Name: Description, Length: 4223, dtype: int64\n",
            "\u001b[43mitems with more than 1500 purchases:\n",
            "\u001b[0m\n",
            "WHITE HANGING HEART T-LIGHT HOLDER      True\n",
            "REGENCY CAKESTAND 3 TIER                True\n",
            "JUMBO BAG RED RETROSPOT                 True\n",
            "PARTY BUNTING                           True\n",
            "LUNCH BAG RED RETROSPOT                 True\n",
            "                                       ...  \n",
            "BLUE GINGHAM ROSE CUSHION COVER        False\n",
            "Damages/samples                        False\n",
            "FLOWER SHOP DESIGN MUG                 False\n",
            "Dotcom set                             False\n",
            "allocate stock for dotcom orders ta    False\n",
            "Name: Description, Length: 4223, dtype: bool\n",
            "\n",
            "\u001b[43mThe proportional purchase for each item (%): \n",
            "\u001b[0m\n",
            "WHITE HANGING HEART T-LIGHT HOLDER     0.438334\n",
            "REGENCY CAKESTAND 3 TIER               0.407064\n",
            "JUMBO BAG RED RETROSPOT                0.399478\n",
            "PARTY BUNTING                          0.319546\n",
            "LUNCH BAG RED RETROSPOT                0.303078\n",
            "                                         ...   \n",
            "BLUE GINGHAM ROSE CUSHION COVER        0.000185\n",
            "Damages/samples                        0.000185\n",
            "FLOWER SHOP DESIGN MUG                 0.000185\n",
            "Dotcom set                             0.000185\n",
            "allocate stock for dotcom orders ta    0.000185\n",
            "Name: Description, Length: 4223, dtype: float64\n"
          ],
          "name": "stdout"
        }
      ]
    },
    {
      "cell_type": "code",
      "metadata": {
        "id": "cGML0DezE0o9",
        "outputId": "3fd11a86-9ae2-43fb-eac0-1f881bc42152",
        "colab": {
          "base_uri": "https://localhost:8080/",
          "height": 477
        }
      },
      "source": [
        "#Bar plot for most probable items\n",
        "fig, ax = plt.subplots(1,1,figsize=(16,4))\n",
        "color = plt.cm.copper(np.linspace(0, 1, 30))\n",
        "data['Description'].value_counts().head(30).plot.bar(color=color)\n",
        "plt.title('frequency of items with most purchase')\n",
        "plt.xticks(rotation = 90 )\n",
        "# plt.grid()\n",
        "plt.show()"
      ],
      "execution_count": 18,
      "outputs": [
        {
          "output_type": "display_data",
          "data": {
            "image/png": "[encoded data removed]",
            "text/plain": [
              "<Figure size 1152x288 with 1 Axes>"
            ]
          },
          "metadata": {
            "tags": [],
            "needs_background": "light"
          }
        }
      ]
    },
    {
      "cell_type": "code",
      "metadata": {
        "id": "4_wFQwlGGcT4",
        "outputId": "83ae5aec-8db0-4d52-89df-d93e2e4b398e",
        "colab": {
          "base_uri": "https://localhost:8080/",
          "height": 425
        }
      },
      "source": [
        "#Finding items with the most purchase (more than 0.3% all purchases)\n",
        "group1=data['Description'].value_counts().index[data['Description'].value_counts()/data['Description'].value_counts().sum()>0.003]\n",
        "#Finding groups of 2 items with the most purchase\n",
        "group2=list(permutations(group1,2))\n",
        "print(\"The number of items with the  purchase more than 0.3% all purchases: \", group1.shape[0])\n",
        "print(\"The number of 2-item groups of items with high purchase: \", len(group2))\n",
        "print(\"\")\n",
        "#groups of 2 items with the most purchase\n",
        "Yellow =  '\\033[43m' \n",
        "print(Yellow+\"groups of 2 items with the most purchase\")\n",
        "r= '\\033[0m'   # reset\n",
        "print(r+\"\")\n",
        "for item in group2:\n",
        "  print(item)"
      ],
      "execution_count": 5,
      "outputs": [
        {
          "output_type": "stream",
          "text": [
            "The number of items with the  purchase more than 0.3% all purchases:  5\n",
            "The number of 2-item groups of items with high purchase:  20\n",
            "\u001b[43mgroups of 2 items with the most purchase\n",
            "\u001b[0m\n",
            "('WHITE HANGING HEART T-LIGHT HOLDER', 'REGENCY CAKESTAND 3 TIER')\n",
            "('WHITE HANGING HEART T-LIGHT HOLDER', 'JUMBO BAG RED RETROSPOT')\n",
            "('WHITE HANGING HEART T-LIGHT HOLDER', 'PARTY BUNTING')\n",
            "('WHITE HANGING HEART T-LIGHT HOLDER', 'LUNCH BAG RED RETROSPOT')\n",
            "('REGENCY CAKESTAND 3 TIER', 'WHITE HANGING HEART T-LIGHT HOLDER')\n",
            "('REGENCY CAKESTAND 3 TIER', 'JUMBO BAG RED RETROSPOT')\n",
            "('REGENCY CAKESTAND 3 TIER', 'PARTY BUNTING')\n",
            "('REGENCY CAKESTAND 3 TIER', 'LUNCH BAG RED RETROSPOT')\n",
            "('JUMBO BAG RED RETROSPOT', 'WHITE HANGING HEART T-LIGHT HOLDER')\n",
            "('JUMBO BAG RED RETROSPOT', 'REGENCY CAKESTAND 3 TIER')\n",
            "('JUMBO BAG RED RETROSPOT', 'PARTY BUNTING')\n",
            "('JUMBO BAG RED RETROSPOT', 'LUNCH BAG RED RETROSPOT')\n",
            "('PARTY BUNTING', 'WHITE HANGING HEART T-LIGHT HOLDER')\n",
            "('PARTY BUNTING', 'REGENCY CAKESTAND 3 TIER')\n",
            "('PARTY BUNTING', 'JUMBO BAG RED RETROSPOT')\n",
            "('PARTY BUNTING', 'LUNCH BAG RED RETROSPOT')\n",
            "('LUNCH BAG RED RETROSPOT', 'WHITE HANGING HEART T-LIGHT HOLDER')\n",
            "('LUNCH BAG RED RETROSPOT', 'REGENCY CAKESTAND 3 TIER')\n",
            "('LUNCH BAG RED RETROSPOT', 'JUMBO BAG RED RETROSPOT')\n",
            "('LUNCH BAG RED RETROSPOT', 'PARTY BUNTING')\n"
          ],
          "name": "stdout"
        }
      ]
    },
    {
      "cell_type": "code",
      "metadata": {
        "id": "Es_HoksBQmv-",
        "outputId": "b2876096-f7c0-4f7d-d75e-60ec98363671",
        "colab": {
          "base_uri": "https://localhost:8080/",
          "height": 102
        }
      },
      "source": [
        "#an example\n",
        "Yellow =  '\\033[43m' \n",
        "print(Yellow+\"An example\")\n",
        "r= '\\033[0m'   # reset\n",
        "print(r+\"\")\n",
        "\n",
        "print(\"The number of purchases for item'PARTY BUNTING': \",\n",
        "      data[data['Description']=='PARTY BUNTING']['Description'].value_counts().mean())\n",
        "print(\"The number of purchases of both items 'PARTY BUNTING' & 'REGENCY CAKESTAND 3 TIER' by one custumer at the same time: \",\n",
        "      len([value for value in data[data['Description']=='PARTY BUNTING']['InvoiceNo'].tolist() if value in data[data['Description']=='REGENCY CAKESTAND 3 TIER']['InvoiceNo'].tolist()]))\n",
        "print(\"The number of purchases for item'PARTY BUNTING'/both items 'PARTY BUNTING' & 'REGENCY CAKESTAND 3 TIER': \",\n",
        "      len([value for value in data[data['Description']=='PARTY BUNTING']['InvoiceNo'].tolist() if value in data[data['Description']=='REGENCY CAKESTAND 3 TIER']['InvoiceNo'].tolist()])/data[data['Description']=='PARTY BUNTING']['Description'].value_counts().mean())"
      ],
      "execution_count": 6,
      "outputs": [
        {
          "output_type": "stream",
          "text": [
            "\u001b[43mAn example\n",
            "\u001b[0m\n",
            "The number of purchases for item'PARTY BUNTING'  1727.0\n",
            "The number of purchases of both items 'PARTY BUNTING' & 'REGENCY CAKESTAND 3 TIER' by one custumer at the same time 402\n",
            "0.23277359583092067\n"
          ],
          "name": "stdout"
        }
      ]
    },
    {
      "cell_type": "code",
      "metadata": {
        "id": "iDO-zALMMftt",
        "outputId": "d67ca85a-6fea-4c30-9a22-d179cabfb3fb",
        "colab": {
          "base_uri": "https://localhost:8080/",
          "height": 88
        }
      },
      "source": [
        "#Finding 2-item groups that purchase of both items at the same time / purchase of the first item is more than 20%\n",
        "group2_i=[]\n",
        "group2_i_percen=[]\n",
        "for item in group2:\n",
        "  pr10=data[data['Description']==item[0]]['Description'].value_counts().mean()\n",
        "  pr2=[value for value in data[data['Description']==item[0]]['InvoiceNo'].tolist() if value in data[data['Description']==item[1]]['InvoiceNo'].tolist()]\n",
        "  # print(\"T(A&B)= \",len(pr2)/data.shape[0])\n",
        "  # print(\"Confidence/A= \",len(pr2)/pr10)\n",
        "  if (len(pr2)/pr10)>0.2:\n",
        "    group2_i.append(item)\n",
        "    group2_i_percen.append(len(pr2)/pr10)\n",
        "\n",
        "Yellow =  '\\033[43m' \n",
        "print(Yellow+\"2-item groups that purchase of both items at the same time / purchase of the first item is more than 20%\")\n",
        "r= '\\033[0m'   # reset\n",
        "print(r+\"\") for item in group2_i:\n",
        "  print(item)"
      ],
      "execution_count": 7,
      "outputs": [
        {
          "output_type": "stream",
          "text": [
            "\u001b[43m2-item groups that purchase of both items at the same time / purchase of the first item is more than 20%\n",
            "\u001b[0m\n",
            "[('JUMBO BAG RED RETROSPOT', 'WHITE HANGING HEART T-LIGHT HOLDER'), ('JUMBO BAG RED RETROSPOT', 'LUNCH BAG RED RETROSPOT'), ('PARTY BUNTING', 'WHITE HANGING HEART T-LIGHT HOLDER'), ('PARTY BUNTING', 'REGENCY CAKESTAND 3 TIER'), ('LUNCH BAG RED RETROSPOT', 'WHITE HANGING HEART T-LIGHT HOLDER'), ('LUNCH BAG RED RETROSPOT', 'JUMBO BAG RED RETROSPOT'), ('LUNCH BAG RED RETROSPOT', 'PARTY BUNTING')]\n"
          ],
          "name": "stdout"
        }
      ]
    },
    {
      "cell_type": "code",
      "metadata": {
        "id": "2D7QH2SbGyl2",
        "outputId": "14c8f966-958f-4037-a001-eb8aba2af4e8",
        "colab": {
          "base_uri": "https://localhost:8080/",
          "height": 646
        }
      },
      "source": [
        "Yellow =  '\\033[43m' \n",
        "print(Yellow+\"groups of 3 items with the most purchase\")\n",
        "r= '\\033[0m'   # reset\n",
        "print(r+\"\")\n",
        "\n",
        "import itertools\n",
        "for i in itertools.product(group2_i, group1):\n",
        "  print(i)"
      ],
      "execution_count": 8,
      "outputs": [
        {
          "output_type": "stream",
          "text": [
            "\u001b[43mgroups of 3 items with the most purchase\n",
            "\u001b[0m\n",
            "(('JUMBO BAG RED RETROSPOT', 'WHITE HANGING HEART T-LIGHT HOLDER'), 'WHITE HANGING HEART T-LIGHT HOLDER')\n",
            "(('JUMBO BAG RED RETROSPOT', 'WHITE HANGING HEART T-LIGHT HOLDER'), 'REGENCY CAKESTAND 3 TIER')\n",
            "(('JUMBO BAG RED RETROSPOT', 'WHITE HANGING HEART T-LIGHT HOLDER'), 'JUMBO BAG RED RETROSPOT')\n",
            "(('JUMBO BAG RED RETROSPOT', 'WHITE HANGING HEART T-LIGHT HOLDER'), 'PARTY BUNTING')\n",
            "(('JUMBO BAG RED RETROSPOT', 'WHITE HANGING HEART T-LIGHT HOLDER'), 'LUNCH BAG RED RETROSPOT')\n",
            "(('JUMBO BAG RED RETROSPOT', 'LUNCH BAG RED RETROSPOT'), 'WHITE HANGING HEART T-LIGHT HOLDER')\n",
            "(('JUMBO BAG RED RETROSPOT', 'LUNCH BAG RED RETROSPOT'), 'REGENCY CAKESTAND 3 TIER')\n",
            "(('JUMBO BAG RED RETROSPOT', 'LUNCH BAG RED RETROSPOT'), 'JUMBO BAG RED RETROSPOT')\n",
            "(('JUMBO BAG RED RETROSPOT', 'LUNCH BAG RED RETROSPOT'), 'PARTY BUNTING')\n",
            "(('JUMBO BAG RED RETROSPOT', 'LUNCH BAG RED RETROSPOT'), 'LUNCH BAG RED RETROSPOT')\n",
            "(('PARTY BUNTING', 'WHITE HANGING HEART T-LIGHT HOLDER'), 'WHITE HANGING HEART T-LIGHT HOLDER')\n",
            "(('PARTY BUNTING', 'WHITE HANGING HEART T-LIGHT HOLDER'), 'REGENCY CAKESTAND 3 TIER')\n",
            "(('PARTY BUNTING', 'WHITE HANGING HEART T-LIGHT HOLDER'), 'JUMBO BAG RED RETROSPOT')\n",
            "(('PARTY BUNTING', 'WHITE HANGING HEART T-LIGHT HOLDER'), 'PARTY BUNTING')\n",
            "(('PARTY BUNTING', 'WHITE HANGING HEART T-LIGHT HOLDER'), 'LUNCH BAG RED RETROSPOT')\n",
            "(('PARTY BUNTING', 'REGENCY CAKESTAND 3 TIER'), 'WHITE HANGING HEART T-LIGHT HOLDER')\n",
            "(('PARTY BUNTING', 'REGENCY CAKESTAND 3 TIER'), 'REGENCY CAKESTAND 3 TIER')\n",
            "(('PARTY BUNTING', 'REGENCY CAKESTAND 3 TIER'), 'JUMBO BAG RED RETROSPOT')\n",
            "(('PARTY BUNTING', 'REGENCY CAKESTAND 3 TIER'), 'PARTY BUNTING')\n",
            "(('PARTY BUNTING', 'REGENCY CAKESTAND 3 TIER'), 'LUNCH BAG RED RETROSPOT')\n",
            "(('LUNCH BAG RED RETROSPOT', 'WHITE HANGING HEART T-LIGHT HOLDER'), 'WHITE HANGING HEART T-LIGHT HOLDER')\n",
            "(('LUNCH BAG RED RETROSPOT', 'WHITE HANGING HEART T-LIGHT HOLDER'), 'REGENCY CAKESTAND 3 TIER')\n",
            "(('LUNCH BAG RED RETROSPOT', 'WHITE HANGING HEART T-LIGHT HOLDER'), 'JUMBO BAG RED RETROSPOT')\n",
            "(('LUNCH BAG RED RETROSPOT', 'WHITE HANGING HEART T-LIGHT HOLDER'), 'PARTY BUNTING')\n",
            "(('LUNCH BAG RED RETROSPOT', 'WHITE HANGING HEART T-LIGHT HOLDER'), 'LUNCH BAG RED RETROSPOT')\n",
            "(('LUNCH BAG RED RETROSPOT', 'JUMBO BAG RED RETROSPOT'), 'WHITE HANGING HEART T-LIGHT HOLDER')\n",
            "(('LUNCH BAG RED RETROSPOT', 'JUMBO BAG RED RETROSPOT'), 'REGENCY CAKESTAND 3 TIER')\n",
            "(('LUNCH BAG RED RETROSPOT', 'JUMBO BAG RED RETROSPOT'), 'JUMBO BAG RED RETROSPOT')\n",
            "(('LUNCH BAG RED RETROSPOT', 'JUMBO BAG RED RETROSPOT'), 'PARTY BUNTING')\n",
            "(('LUNCH BAG RED RETROSPOT', 'JUMBO BAG RED RETROSPOT'), 'LUNCH BAG RED RETROSPOT')\n",
            "(('LUNCH BAG RED RETROSPOT', 'PARTY BUNTING'), 'WHITE HANGING HEART T-LIGHT HOLDER')\n",
            "(('LUNCH BAG RED RETROSPOT', 'PARTY BUNTING'), 'REGENCY CAKESTAND 3 TIER')\n",
            "(('LUNCH BAG RED RETROSPOT', 'PARTY BUNTING'), 'JUMBO BAG RED RETROSPOT')\n",
            "(('LUNCH BAG RED RETROSPOT', 'PARTY BUNTING'), 'PARTY BUNTING')\n",
            "(('LUNCH BAG RED RETROSPOT', 'PARTY BUNTING'), 'LUNCH BAG RED RETROSPOT')\n"
          ],
          "name": "stdout"
        }
      ]
    },
    {
      "cell_type": "code",
      "metadata": {
        "id": "6eR5FSq7M_Fp",
        "outputId": "2b6ef1dd-627d-41a5-d9f9-9cfb2b918e50",
        "colab": {
          "base_uri": "https://localhost:8080/",
          "height": 88
        }
      },
      "source": [
        "#Finding 3-item groups that purchase of all three items at the same time / purchase of the two first items is more than 35%, so you can conclude\n",
        "#when a customer buys 2 first items, it is probable (>35%) he/she buys the third one\n",
        "group3_i=[]\n",
        "group3_i_percen=[]\n",
        "for i in itertools.product(group2_i, group1):\n",
        "  pr2=[value for value in data[data['Description']==i[0][0]]['InvoiceNo'].tolist() if value in data[data['Description']==i[0][1]]['InvoiceNo'].tolist()]\n",
        "  if (i[1]!=i[0][0]) & (i[1]!=i[0][1]):\n",
        "    pr3=[value for value in pr2 if value in data[data['Description']==i[1]]['InvoiceNo'].tolist()]\n",
        "    if (len(pr3)/len(pr2))>0.35:\n",
        "      group3_i.append(i)\n",
        "      group3_i_percen.append(len(pr3)/len(pr2))\n",
        "\n",
        "\n",
        "print(Yellow+\"3-item groups that #when a customer buys 2 first items, it is probable (>35%) he/she buys the third one\")\n",
        "print(r+\"\")\n",
        "for item in group3_i:\n",
        "  print(item)\n"
      ],
      "execution_count": 9,
      "outputs": [
        {
          "output_type": "stream",
          "text": [
            "\u001b[43m3-item groups that #when a customer buys 2 first items, it is probable (>35%) he/she buys the third one\n",
            "\u001b[0m\n",
            "[(('LUNCH BAG RED RETROSPOT', 'WHITE HANGING HEART T-LIGHT HOLDER'), 'JUMBO BAG RED RETROSPOT'), (('LUNCH BAG RED RETROSPOT', 'PARTY BUNTING'), 'REGENCY CAKESTAND 3 TIER'), (('LUNCH BAG RED RETROSPOT', 'PARTY BUNTING'), 'JUMBO BAG RED RETROSPOT')]\n"
          ],
          "name": "stdout"
        }
      ]
    },
    {
      "cell_type": "code",
      "metadata": {
        "id": "v4Ya7Bu23i3W"
      },
      "source": [
        ""
      ],
      "execution_count": 10,
      "outputs": []
    },
    {
      "cell_type": "code",
      "metadata": {
        "id": "rp-Y-klobuIA",
        "outputId": "a947efba-dc0f-4d26-e75d-466294190c26",
        "colab": {
          "base_uri": "https://localhost:8080/",
          "height": 275
        }
      },
      "source": [
        "Rules2=[]\n",
        "for i, item in enumerate(group2_i):\n",
        "  x=\"if a customer buys <<{}>> then it is possible with a probability of {}% to buy <<{}>>\".format(item[0],int(group2_i_percen[i]*100),item[1])\n",
        "  Rules2.append(x)\n",
        "\n",
        "Rules3=[]\n",
        "for i, item in enumerate(group3_i):\n",
        "  x=\"if a customer buys <<{}>> and <<{}>>, then it is possible with a probability of {}% to buy <<{}>>\".format(item[0][0],item[0][1],int(group3_i_percen[i]*100),item[1])\n",
        "  Rules3.append(x)\n",
        "\n",
        "Yellow =  '\\033[43m' \n",
        "print(Yellow+\"Rules (between 2 items)\")\n",
        "print(r+\"\")\n",
        "for item in Rules2:\n",
        "  print(item)\n",
        "\n",
        "print(Yellow+\"Rules (between 3 items)\")\n",
        "print(r+\"\")\n",
        "for item in Rules3:\n",
        "  print(item)"
      ],
      "execution_count": 21,
      "outputs": [
        {
          "output_type": "stream",
          "text": [
            "\u001b[43mRules (between 2 items)\n",
            "\u001b[0m\n",
            "if a customer buys <<JUMBO BAG RED RETROSPOT>> then it is possible with a probability of 21% to buy <<WHITE HANGING HEART T-LIGHT HOLDER>>\n",
            "if a customer buys <<JUMBO BAG RED RETROSPOT>> then it is possible with a probability of 27% to buy <<LUNCH BAG RED RETROSPOT>>\n",
            "if a customer buys <<PARTY BUNTING>> then it is possible with a probability of 22% to buy <<WHITE HANGING HEART T-LIGHT HOLDER>>\n",
            "if a customer buys <<PARTY BUNTING>> then it is possible with a probability of 23% to buy <<REGENCY CAKESTAND 3 TIER>>\n",
            "if a customer buys <<LUNCH BAG RED RETROSPOT>> then it is possible with a probability of 20% to buy <<WHITE HANGING HEART T-LIGHT HOLDER>>\n",
            "if a customer buys <<LUNCH BAG RED RETROSPOT>> then it is possible with a probability of 36% to buy <<JUMBO BAG RED RETROSPOT>>\n",
            "if a customer buys <<LUNCH BAG RED RETROSPOT>> then it is possible with a probability of 20% to buy <<PARTY BUNTING>>\n",
            "\u001b[43mRules (between 3 items)\n",
            "\u001b[0m\n",
            "if a customer buys <<LUNCH BAG RED RETROSPOT>> and <<WHITE HANGING HEART T-LIGHT HOLDER>>, then it is possible with a probability of 45% to buy <<JUMBO BAG RED RETROSPOT>>\n",
            "if a customer buys <<LUNCH BAG RED RETROSPOT>> and <<PARTY BUNTING>>, then it is possible with a probability of 40% to buy <<REGENCY CAKESTAND 3 TIER>>\n",
            "if a customer buys <<LUNCH BAG RED RETROSPOT>> and <<PARTY BUNTING>>, then it is possible with a probability of 39% to buy <<JUMBO BAG RED RETROSPOT>>\n"
          ],
          "name": "stdout"
        }
      ]
    }
  ]
}